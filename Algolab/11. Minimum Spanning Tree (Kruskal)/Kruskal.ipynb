{
  "nbformat": 4,
  "nbformat_minor": 0,
  "metadata": {
    "colab": {
      "name": "Kruskal.ipynb",
      "provenance": [],
      "collapsed_sections": []
    },
    "kernelspec": {
      "name": "python3",
      "display_name": "Python 3"
    },
    "language_info": {
      "name": "python"
    }
  },
  "cells": [
    {
      "cell_type": "code",
      "metadata": {
        "id": "ehGiOPKq7BUW"
      },
      "source": [
        "def init(arr):\n",
        "  for i in range(len(arr)):\n",
        "    arr[i] = i\n",
        "\n",
        "def find(arr, i):\n",
        "  while arr[i] != i:\n",
        "    i = arr[i]\n",
        "  return i\n",
        "\n",
        "def union(arr, p, q):\n",
        "  if find(arr, p) != find(arr, q):\n",
        "    arr[find(arr, p)] = find(arr, q)\n",
        "\n",
        "t = int(input())\n",
        "for _ in range(t):\n",
        "  n = int(input())\n",
        "\n",
        "  mat = [[0 for col in range(n+1)] for row in range(n+1)]\n",
        "\n",
        "  for _ in range(n):\n",
        "    l = list(map(int, input().split()))\n",
        "    k = l[0]\n",
        "    m = l[1]\n",
        "    for i in range(2, len(l), 2):\n",
        "      mat[l[0]][l[i]] = l[i+1]\n",
        "\n",
        "  weight = []\n",
        "  for i in range(1, n+1):\n",
        "    for j in range(i, n+1):\n",
        "      if mat[i][j] != 0:\n",
        "        weight.append((i, j, mat[i][j]))\n",
        "  weight.sort(key=lambda x: x[2])\n",
        "\n",
        "  arr = [0 for _ in range(n+1)]\n",
        "  init(arr)\n",
        "\n",
        "  F = []\n",
        "  for v in weight:\n",
        "    if find(arr, v[0]) != find(arr, v[1]):\n",
        "      union(arr, v[0], v[1])\n",
        "      F.append((v[0], v[1]))\n",
        "\n",
        "    if len(F) >= n-1:\n",
        "      break\n",
        "\n",
        "  result = 0\n",
        "  for f in F:\n",
        "    result += mat[f[0]][f[1]]\n",
        "  print(result)"
      ],
      "execution_count": null,
      "outputs": []
    }
  ]
}